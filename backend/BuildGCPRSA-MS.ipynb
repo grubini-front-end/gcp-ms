{
  "nbformat": 4,
  "nbformat_minor": 0,
  "metadata": {
    "colab": {
      "name": "RBGCPRSA-MS.ipynb",
      "provenance": [],
      "collapsed_sections": [
        "hfoZ7_7CnwhC"
      ]
    },
    "kernelspec": {
      "name": "python3",
      "display_name": "Python 3"
    }
  },
  "cells": [
    {
      "cell_type": "markdown",
      "metadata": {
        "id": "-Ij_gygBEymw",
        "colab_type": "text"
      },
      "source": [
        "# A : Setup"
      ]
    },
    {
      "cell_type": "markdown",
      "metadata": {
        "id": "SNLwwh5WC0Ph",
        "colab_type": "text"
      },
      "source": [
        "##A.1 Authentication and Checking User Details."
      ]
    },
    {
      "cell_type": "code",
      "metadata": {
        "id": "JPczOft2qqXx",
        "colab_type": "code",
        "colab": {}
      },
      "source": [
        "# Authenticate to GCS.\n",
        "from google.colab import auth\n",
        "auth.authenticate_user()"
      ],
      "execution_count": null,
      "outputs": []
    },
    {
      "cell_type": "code",
      "metadata": {
        "id": "_L9dLwNWn0ua",
        "colab_type": "code",
        "colab": {}
      },
      "source": [
        "# Getting the email account that was used to login to this session\n",
        "import requests\n",
        "gcloud_token = !gcloud auth print-access-token\n",
        "gcloud_tokeninfo = requests.get('https://www.googleapis.com/oauth2/v3/tokeninfo?access_token=' + gcloud_token[0]).json()\n",
        "print(gcloud_tokeninfo['email'])"
      ],
      "execution_count": null,
      "outputs": []
    },
    {
      "cell_type": "markdown",
      "metadata": {
        "id": "64C8rahCDpCo",
        "colab_type": "text"
      },
      "source": [
        "##A.2 Setup the Project Parameters."
      ]
    },
    {
      "cell_type": "code",
      "metadata": {
        "colab_type": "code",
        "id": "58uzs3Uf-NPu",
        "colab": {}
      },
      "source": [
        "# Change the following if you are not in the rsa-dev-10 project\n",
        "# These parameters are generated outside of this notebook\n",
        "# Project: rsa-mla-prod\n",
        "\n",
        "# Project: rsa-dev-10\n",
        "project_id = 'gcp-rsa-project-project'\n",
        "bucket_id = 'gcp-rsa-project-bucket'\n",
        "\n",
        "ip_addr_name = 'gcp-rsa-prod'\n",
        "\n",
        "# These are parameters you setup for this deployment\n",
        "region = 'us-central1'\n",
        "zone = 'us-central1-f'\n"
      ],
      "execution_count": null,
      "outputs": []
    },
    {
      "cell_type": "code",
      "metadata": {
        "id": "gvxv5ygQFbY1",
        "colab_type": "code",
        "colab": {}
      },
      "source": [
        "import os\n",
        "os.environ['DEVSHELL_PROJECT_ID'] = project_id\n",
        "os.environ['GOOGLE_CLOUD_PROJECT'] = project_id\n",
        "\n",
        "!gcloud config set project {project_id} -q"
      ],
      "execution_count": null,
      "outputs": []
    },
    {
      "cell_type": "code",
      "metadata": {
        "colab_type": "code",
        "id": "uePZlHbr_YdU",
        "colab": {}
      },
      "source": [
        "!gcloud config set compute/zone {zone}\n",
        "!gcloud config set compute/region {region}"
      ],
      "execution_count": null,
      "outputs": []
    },
    {
      "cell_type": "markdown",
      "metadata": {
        "id": "QQyinkfxdymi",
        "colab_type": "text"
      },
      "source": [
        "### Install Kubectl"
      ]
    },
    {
      "cell_type": "code",
      "metadata": {
        "id": "DNFZOhW2U1x-",
        "colab_type": "code",
        "colab": {}
      },
      "source": [
        "!curl -LO https://storage.googleapis.com/kubernetes-release/release/`curl -s \\\n",
        " https://storage.googleapis.com/kubernetes-release/release/stable.txt`/bin/linux/amd64/kubectl"
      ],
      "execution_count": null,
      "outputs": []
    },
    {
      "cell_type": "code",
      "metadata": {
        "id": "PuVTL9sEU8Ew",
        "colab_type": "code",
        "colab": {}
      },
      "source": [
        "!chmod +x kubectl\n",
        "!sudo mv ./kubectl /usr/local/bin/kubectl\n",
        "!kubectl version --client"
      ],
      "execution_count": null,
      "outputs": []
    },
    {
      "cell_type": "markdown",
      "metadata": {
        "id": "WELJ0O3K8N2Q",
        "colab_type": "text"
      },
      "source": [
        "##A.3 Enabling APIs"
      ]
    },
    {
      "cell_type": "code",
      "metadata": {
        "id": "C1Ot3t91FKlI",
        "colab_type": "code",
        "colab": {}
      },
      "source": [
        "!gcloud services enable container.googleapis.com --async\n",
        "!gcloud services enable containerregistry.googleapis.com --async\n",
        "!gcloud services enable compute.googleapis.com --async\n",
        "!gcloud services enable storage-api.googleapis.com --async\n",
        "!gcloud services enable storage-component.googleapis.com --async                        \n",
        "!gcloud services enable servicemanagement.googleapis.com --async\n",
        "!gcloud services enable iam.googleapis.com --async\n",
        "!gcloud services enable cloudbuild.googleapis.com --async"
      ],
      "execution_count": null,
      "outputs": []
    },
    {
      "cell_type": "markdown",
      "metadata": {
        "id": "5EI2Akt4x_YT",
        "colab_type": "text"
      },
      "source": [
        "# B : Git Repository Pull"
      ]
    },
    {
      "cell_type": "code",
      "metadata": {
        "id": "Hh0g2MmXYPAc",
        "colab_type": "code",
        "colab": {}
      },
      "source": [
        "%cd ~\n",
        "!git clone https://github.com/skramana1973/gcp-ms.git"
      ],
      "execution_count": null,
      "outputs": []
    },
    {
      "cell_type": "code",
      "metadata": {
        "id": "-geDzcGUXqVE",
        "colab_type": "code",
        "colab": {}
      },
      "source": [
        "%cd ~/gcp-ms/backend\n",
        "%ls -l"
      ],
      "execution_count": null,
      "outputs": []
    },
    {
      "cell_type": "code",
      "metadata": {
        "id": "2ZnM1nXblnct",
        "colab_type": "code",
        "colab": {}
      },
      "source": [
        "!./setup.sh"
      ],
      "execution_count": null,
      "outputs": []
    },
    {
      "cell_type": "markdown",
      "metadata": {
        "id": "49yF1A4_lzEd",
        "colab_type": "text"
      },
      "source": [
        ""
      ]
    },
    {
      "cell_type": "markdown",
      "metadata": {
        "id": "-md550HckCci",
        "colab_type": "text"
      },
      "source": [
        "If ./setup give error than do below steps for npm install else skip these npm steps \n",
        "%cd ~/gcp-ms/backend\n",
        "!npm install -g npm \n",
        "%cd ./monolith\n",
        "!npm install\n",
        "%cd ../microservices\n",
        "!npm install\n",
        "%cd ../react-app\n",
        "!npm install\n",
        "!npm run build "
      ]
    },
    {
      "cell_type": "code",
      "metadata": {
        "id": "SKNevINVEIlI",
        "colab_type": "code",
        "colab": {}
      },
      "source": [
        "!ls -lrt"
      ],
      "execution_count": null,
      "outputs": []
    },
    {
      "cell_type": "code",
      "metadata": {
        "id": "qyzVi2tq0BFV",
        "colab_type": "code",
        "colab": {}
      },
      "source": [
        "!gcloud container clusters create fancy-cluster --num-nodes 3"
      ],
      "execution_count": null,
      "outputs": []
    },
    {
      "cell_type": "code",
      "metadata": {
        "id": "sHCGVnovdy8J",
        "colab_type": "code",
        "colab": {}
      },
      "source": [
        "!gcloud compute instances list"
      ],
      "execution_count": null,
      "outputs": []
    },
    {
      "cell_type": "markdown",
      "metadata": {
        "id": "0aHkPK-DVKG6",
        "colab_type": "text"
      },
      "source": [
        "Get Credentials"
      ]
    },
    {
      "cell_type": "code",
      "metadata": {
        "id": "RoeGLD4IYOCL",
        "colab_type": "code",
        "colab": {}
      },
      "source": [
        "!gcloud config set container/use_application_default_credentials true\n",
        "!gcloud container clusters get-credentials fancy-cluster\n",
        "!kubectl cluster-info"
      ],
      "execution_count": null,
      "outputs": []
    },
    {
      "cell_type": "markdown",
      "metadata": {
        "id": "uSlvZw_iy-fe",
        "colab_type": "text"
      },
      "source": [
        "# C: Build Container Image"
      ]
    },
    {
      "cell_type": "code",
      "metadata": {
        "id": "I6ESKxR5bNMi",
        "colab_type": "code",
        "colab": {}
      },
      "source": [
        "%cd ~/gcp-ms/backend/microservices/src/orders\n",
        "%pwd"
      ],
      "execution_count": null,
      "outputs": []
    },
    {
      "cell_type": "code",
      "metadata": {
        "id": "TrDeLfYhsQad",
        "colab_type": "code",
        "colab": {}
      },
      "source": [
        "%cd ~/gcp-ms/backend/microservices/src/orders\n",
        "!gcloud builds submit --tag gcr.io/${GOOGLE_CLOUD_PROJECT}/orders:1.0.0 ."
      ],
      "execution_count": null,
      "outputs": []
    },
    {
      "cell_type": "code",
      "metadata": {
        "id": "2NyYttxltGCF",
        "colab_type": "code",
        "colab": {}
      },
      "source": [
        "!kubectl create deployment orders --image=gcr.io/${GOOGLE_CLOUD_PROJECT}/orders:1.0.0"
      ],
      "execution_count": null,
      "outputs": []
    },
    {
      "cell_type": "code",
      "metadata": {
        "id": "2Ilj1JERcpCz",
        "colab_type": "code",
        "colab": {}
      },
      "source": [
        "!kubectl expose deployment orders --type=LoadBalancer --port 80 --target-port 8081"
      ],
      "execution_count": null,
      "outputs": []
    },
    {
      "cell_type": "code",
      "metadata": {
        "id": "SDZIBdwUhCA2",
        "colab_type": "code",
        "colab": {}
      },
      "source": [
        "!kubectl get service orders"
      ],
      "execution_count": null,
      "outputs": []
    },
    {
      "cell_type": "markdown",
      "metadata": {
        "id": "At4fO4G-hPSv",
        "colab_type": "text"
      },
      "source": [
        ""
      ]
    },
    {
      "cell_type": "markdown",
      "metadata": {
        "id": "-C9DOaq_dOtu",
        "colab_type": "text"
      },
      "source": [
        "##Build Product Container Image and Deploy It"
      ]
    },
    {
      "cell_type": "code",
      "metadata": {
        "id": "_NWqbdfYnHsw",
        "colab_type": "code",
        "colab": {}
      },
      "source": [
        "%cd ~/gcp-ms/backend/microservices/src/products\n",
        "!gcloud builds submit --tag gcr.io/${GOOGLE_CLOUD_PROJECT}/products:1.0.0 ."
      ],
      "execution_count": null,
      "outputs": []
    },
    {
      "cell_type": "code",
      "metadata": {
        "id": "6e_0mU4da4Ma",
        "colab_type": "code",
        "colab": {}
      },
      "source": [
        "!kubectl create deployment products --image=gcr.io/${GOOGLE_CLOUD_PROJECT}/products:1.0.0"
      ],
      "execution_count": null,
      "outputs": []
    },
    {
      "cell_type": "code",
      "metadata": {
        "id": "JOE0DybcdlxB",
        "colab_type": "code",
        "colab": {}
      },
      "source": [
        "!kubectl expose deployment products --type=LoadBalancer --port 80 --target-port 8082"
      ],
      "execution_count": null,
      "outputs": []
    },
    {
      "cell_type": "markdown",
      "metadata": {
        "id": "dXfnHzU2hBWk",
        "colab_type": "text"
      },
      "source": [
        "## Build Frontend Container and Deploy It"
      ]
    },
    {
      "cell_type": "code",
      "metadata": {
        "id": "oKwj354jdzeo",
        "colab_type": "code",
        "colab": {}
      },
      "source": [
        "!kubectl get service"
      ],
      "execution_count": null,
      "outputs": []
    },
    {
      "cell_type": "markdown",
      "metadata": {
        "id": "OrxkVj-Jd77M",
        "colab_type": "text"
      },
      "source": [
        "### Copy the IP address of order and product LoadBalancer and paste it below"
      ]
    },
    {
      "cell_type": "code",
      "metadata": {
        "id": "sl4_IF3Duth8",
        "colab_type": "code",
        "colab": {}
      },
      "source": [
        "order_ip='34.72.89.148'\n",
        "product_ip='34.72.212.80'"
      ],
      "execution_count": null,
      "outputs": []
    },
    {
      "cell_type": "code",
      "metadata": {
        "id": "xnV43i8yd5NN",
        "colab_type": "code",
        "colab": {}
      },
      "source": [
        "\"\"\"\n",
        "%cd ~/gcp-ms/backend/react-app\n",
        "!sed -i 's+/service/orders+http://{order_ip}/api/orders+g' ./.env.monolith\n",
        "!sed -i 's+/service/products+http://{product}/api/products+g' ./.env.monolith\n",
        "!cp ./.env.monolith ./.env\n",
        "!cat ./.env\n",
        "\"\"\""
      ],
      "execution_count": null,
      "outputs": []
    },
    {
      "cell_type": "code",
      "metadata": {
        "colab_type": "code",
        "id": "WRPImboqpY1K",
        "colab": {}
      },
      "source": [
        "%cd ~/gcp-ms/backend/react-app\n",
        "!cp ./.env.monolith ./.env\n",
        "!sed -i 's+/service/orders+http://{order_ip}/api/orders+g' ./.env\n",
        "!sed -i 's+/service/products+http://{product_ip}/api/products+g' ./.env\n",
        "!cat ./.env"
      ],
      "execution_count": null,
      "outputs": []
    },
    {
      "cell_type": "code",
      "metadata": {
        "id": "3vV1ROzwfrP_",
        "colab_type": "code",
        "colab": {}
      },
      "source": [
        "!npm run build"
      ],
      "execution_count": null,
      "outputs": []
    },
    {
      "cell_type": "code",
      "metadata": {
        "id": "vH60mqSxfly5",
        "colab_type": "code",
        "colab": {}
      },
      "source": [
        "%cd ~/gcp-ms/backend/microservices/src/frontend\n",
        "!gcloud builds submit --tag gcr.io/${GOOGLE_CLOUD_PROJECT}/frontend:1.0.0 ."
      ],
      "execution_count": null,
      "outputs": []
    },
    {
      "cell_type": "code",
      "metadata": {
        "id": "r0a2U9ZWhVvi",
        "colab_type": "code",
        "colab": {}
      },
      "source": [
        "!kubectl create deployment frontend --image=gcr.io/${GOOGLE_CLOUD_PROJECT}/frontend:1.0.0"
      ],
      "execution_count": null,
      "outputs": []
    },
    {
      "cell_type": "code",
      "metadata": {
        "id": "NryskYVGhcDj",
        "colab_type": "code",
        "colab": {}
      },
      "source": [
        "!kubectl expose deployment frontend --type=LoadBalancer --port 80 --target-port 8080"
      ],
      "execution_count": null,
      "outputs": []
    },
    {
      "cell_type": "markdown",
      "metadata": {
        "id": "uoYVRwbQZcoW",
        "colab_type": "text"
      },
      "source": [
        "## How can I Get the External-IP address?"
      ]
    },
    {
      "cell_type": "code",
      "metadata": {
        "id": "ukFR0e9MfUfa",
        "colab_type": "code",
        "colab": {}
      },
      "source": [
        "!kubectl get nodes"
      ],
      "execution_count": null,
      "outputs": []
    },
    {
      "cell_type": "code",
      "metadata": {
        "id": "CxXMeYHqfYEp",
        "colab_type": "code",
        "colab": {}
      },
      "source": [
        "!kubectl get pods"
      ],
      "execution_count": null,
      "outputs": []
    },
    {
      "cell_type": "code",
      "metadata": {
        "id": "mgItpg9HZmD0",
        "colab_type": "code",
        "colab": {}
      },
      "source": [
        "!kubectl get service"
      ],
      "execution_count": null,
      "outputs": []
    },
    {
      "cell_type": "code",
      "metadata": {
        "id": "wkpgOljbGQe3",
        "colab_type": "code",
        "colab": {}
      },
      "source": [
        "!kubectl get -o jsonpath=\"{.status.loadBalancer.ingress[0].ip}\" --namespace=default services frontend"
      ],
      "execution_count": null,
      "outputs": []
    },
    {
      "cell_type": "markdown",
      "metadata": {
        "id": "_DVnXXvakfKG",
        "colab_type": "text"
      },
      "source": [
        ""
      ]
    },
    {
      "cell_type": "markdown",
      "metadata": {
        "id": "yy6-JXROjg41",
        "colab_type": "text"
      },
      "source": [
        "## Resilency Test"
      ]
    },
    {
      "cell_type": "code",
      "metadata": {
        "id": "2x4fo63Yj48n",
        "colab_type": "code",
        "colab": {}
      },
      "source": [
        "!kubectl get pods"
      ],
      "execution_count": null,
      "outputs": []
    },
    {
      "cell_type": "code",
      "metadata": {
        "id": "YYU2S4XRj83U",
        "colab_type": "code",
        "colab": {}
      },
      "source": [
        "!kubectl delete pod products-6fd4b78888-8vv9c\n"
      ],
      "execution_count": null,
      "outputs": []
    },
    {
      "cell_type": "code",
      "metadata": {
        "id": "z1okg933bCbO",
        "colab_type": "code",
        "colab": {}
      },
      "source": [
        "!kubectl delete deployment products\n",
        "#!kubectl delete"
      ],
      "execution_count": null,
      "outputs": []
    },
    {
      "cell_type": "code",
      "metadata": {
        "id": "TQQKF5ZllTDn",
        "colab_type": "code",
        "colab": {}
      },
      "source": [
        "!kubectl create deployment products --image=gcr.io/${GOOGLE_CLOUD_PROJECT}/products:1.0.0"
      ],
      "execution_count": null,
      "outputs": []
    },
    {
      "cell_type": "code",
      "metadata": {
        "id": "Lb4aC3njmkfo",
        "colab_type": "code",
        "colab": {}
      },
      "source": [
        "!curl 34.70.215.215/api/products"
      ],
      "execution_count": null,
      "outputs": []
    },
    {
      "cell_type": "code",
      "metadata": {
        "id": "5N2PiLcNoz2j",
        "colab_type": "code",
        "colab": {}
      },
      "source": [
        ""
      ],
      "execution_count": null,
      "outputs": []
    },
    {
      "cell_type": "code",
      "metadata": {
        "colab_type": "code",
        "id": "4JtW9pZ9o0T7",
        "colab": {}
      },
      "source": [
        "%cd ~/gcp-ms/backend/react-app\n",
        "!cp ./.env.monolith ./.env\n",
        "!sed -i 's+/service/orders+http://35.232.229.60/api/orders+g' ./.env\n",
        "!sed -i 's+/service/products+http://35.232.229.60/api/products+g' ./.env\n",
        "\n",
        "!cat ./.env"
      ],
      "execution_count": null,
      "outputs": []
    },
    {
      "cell_type": "code",
      "metadata": {
        "id": "CgztYpoYo-Uk",
        "colab_type": "code",
        "colab": {}
      },
      "source": [
        "!npm run build"
      ],
      "execution_count": null,
      "outputs": []
    },
    {
      "cell_type": "code",
      "metadata": {
        "id": "ttU6o8X-pG1z",
        "colab_type": "code",
        "colab": {}
      },
      "source": [
        "%cd ~/gcp-ms/backend/microservices/src/frontend\n",
        "!gcloud builds submit --tag gcr.io/${GOOGLE_CLOUD_PROJECT}/frontend:1.0.0 ."
      ],
      "execution_count": null,
      "outputs": []
    },
    {
      "cell_type": "markdown",
      "metadata": {
        "id": "hfoZ7_7CnwhC",
        "colab_type": "text"
      },
      "source": [
        "## Internal Name space"
      ]
    },
    {
      "cell_type": "code",
      "metadata": {
        "id": "kNH2Noyvn7TK",
        "colab_type": "code",
        "colab": {}
      },
      "source": [
        ""
      ],
      "execution_count": null,
      "outputs": []
    },
    {
      "cell_type": "markdown",
      "metadata": {
        "id": "4-Obhm2GCE8P",
        "colab_type": "text"
      },
      "source": [
        "# C : Cleanup Project"
      ]
    },
    {
      "cell_type": "code",
      "metadata": {
        "id": "QZJ0wKLmJJIT",
        "colab_type": "code",
        "colab": {}
      },
      "source": [
        "!gcloud container clusters list"
      ],
      "execution_count": null,
      "outputs": []
    },
    {
      "cell_type": "code",
      "metadata": {
        "id": "LtrG__Ck-Y_x",
        "colab_type": "code",
        "colab": {}
      },
      "source": [
        "!gcloud container clusters delete fancy-cluster\n"
      ],
      "execution_count": null,
      "outputs": []
    },
    {
      "cell_type": "code",
      "metadata": {
        "id": "O9KlyTAkYb57",
        "colab_type": "code",
        "colab": {}
      },
      "source": [
        "!sed -i 's/unique-hull-new/{project_id}/g' ./RSA-Core/microservices/k8s-v2/frontend.yaml\n",
        "!sed -i 's/nodeserver:v1.0.0/{server_app_tag}/g' ./RSA-Core/microservices/k8s-v2/frontend.yaml\n",
        "!sed -i 's/nodeclient:v1.0.0/{client_app_tag}/g' ./RSA-Core/microservices/k8s-v2/frontend.yaml\n",
        "!sed -i 's/47910159411-h5v9fv4pljka89t6l4b0td4c4sdnpolf.apps.googleusercontent.com/{oauth_id}/g' ./RSA-Core/microservices/k8s-v2/frontend.yaml\n",
        "!sed -i 's/ghjebfjkrnfbgrvnknskf/{secret_key}/g' ./RSA-Core/microservices/k8s-v2/frontend.yaml"
      ],
      "execution_count": null,
      "outputs": []
    }
  ]
}